{
 "cells": [
  {
   "cell_type": "code",
   "execution_count": 1,
   "id": "dd413296-6e82-4f64-9c4a-943de715d00f",
   "metadata": {},
   "outputs": [
    {
     "name": "stderr",
     "output_type": "stream",
     "text": [
      "/Users/hilarywang/Library/Python/3.9/lib/python/site-packages/urllib3/__init__.py:35: NotOpenSSLWarning: urllib3 v2 only supports OpenSSL 1.1.1+, currently the 'ssl' module is compiled with 'LibreSSL 2.8.3'. See: https://github.com/urllib3/urllib3/issues/3020\n",
      "  warnings.warn(\n"
     ]
    }
   ],
   "source": [
    "import pandas as pd\n",
    "import pyarrow.parquet as pa\n",
    "import spacy\n"
   ]
  },
  {
   "cell_type": "code",
   "execution_count": 2,
   "id": "d23c6504-e2f8-4782-98c8-86d75a210243",
   "metadata": {},
   "outputs": [
    {
     "name": "stderr",
     "output_type": "stream",
     "text": [
      "/Users/hilarywang/Library/Python/3.9/lib/python/site-packages/tqdm/auto.py:21: TqdmWarning: IProgress not found. Please update jupyter and ipywidgets. See https://ipywidgets.readthedocs.io/en/stable/user_install.html\n",
      "  from .autonotebook import tqdm as notebook_tqdm\n"
     ]
    },
    {
     "data": {
      "text/plain": [
       "Dataset({\n",
       "    features: ['text'],\n",
       "    num_rows: 10000\n",
       "})"
      ]
     },
     "execution_count": 2,
     "metadata": {},
     "output_type": "execute_result"
    }
   ],
   "source": [
    "#imports the load dataset from the Hugging Face DataSet libary\n",
    "from datasets import load_dataset\n",
    "#loads the first 10,0000 rows from Parquet files in the variable data\n",
    "data = load_dataset(\"parquet\", data_files=\"train-00000-of-00001-090b52ccb189d47a.parquet\", split='train[:10000]')\n",
    "data"
   ]
  },
  {
   "cell_type": "code",
   "execution_count": 3,
   "id": "16b24346-acd3-4043-aa99-ff8ce4c80d95",
   "metadata": {},
   "outputs": [],
   "source": [
    "import re\n",
    "#checking if row is title \n",
    "def is_title(row):\n",
    "    return len(row['text'].split()) <= 2\n",
    "    "
   ]
  },
  {
   "cell_type": "code",
   "execution_count": 11,
   "id": "5fadb0a0-b4ab-438c-af3f-42dbdbcafaca",
   "metadata": {},
   "outputs": [],
   "source": [
    "def separate_title_and_text(dataset):\n",
    "    final_rows = []\n",
    "    current_title = None\n",
    "    accumulated_text = []\n",
    "\n",
    "    for row in dataset:\n",
    "        if is_title(row):  # Identify if the row is a title\n",
    "            if current_title is not None:\n",
    "                # Save the previous title and its accumulated text\n",
    "                final_rows.append({\n",
    "                    'title': current_title,\n",
    "                    'text': ' '.join(accumulated_text)\n",
    "                })\n",
    "            # Update the current title and reset the accumulated text\n",
    "            current_title = row['text']\n",
    "            accumulated_text = []\n",
    "        else:\n",
    "            # If it's part of the text, accumulate it\n",
    "            accumulated_text.append(row['text'])\n",
    "\n",
    "    # Append the last title and its text if exists\n",
    "    if current_title is not None:\n",
    "        final_rows.append({\n",
    "            'title': current_title,\n",
    "            'text': ' '.join(accumulated_text)\n",
    "        })\n",
    "\n",
    "    return final_rows\n",
    "\n",
    "wiki_data = separate_title_and_text(data)"
   ]
  },
  {
   "cell_type": "code",
   "execution_count": 12,
   "id": "95b22f70-64b9-4170-98fd-e37e0402975d",
   "metadata": {},
   "outputs": [],
   "source": [
    "# converts lists into Hugging Face Dataset\n",
    "wiki_data=data.from_list(wiki_data)"
   ]
  },
  {
   "cell_type": "code",
   "execution_count": 13,
   "id": "0a538e5b-1ee4-4380-901d-58bb044629f7",
   "metadata": {},
   "outputs": [
    {
     "data": {
      "text/plain": [
       "<Encoding 'cl100k_base'>"
      ]
     },
     "execution_count": 13,
     "metadata": {},
     "output_type": "execute_result"
    }
   ],
   "source": [
    "import tiktoken\n",
    "tiktoken.encoding_for_model('gpt-3.5-turbo')"
   ]
  },
  {
   "cell_type": "code",
   "execution_count": 14,
   "id": "28bce6a6-0cb4-470d-97db-5a765abf6f87",
   "metadata": {},
   "outputs": [],
   "source": [
    "import tiktoken\n",
    "\n",
    "tokenizer = tiktoken.get_encoding('cl100k_base')\n",
    "\n",
    "# create the length function\n",
    "def tiktoken_len(text):\n",
    "    tokens = tokenizer.encode(\n",
    "        text,\n",
    "        disallowed_special=()\n",
    "    )\n",
    "    return len(tokens)"
   ]
  },
  {
   "cell_type": "code",
   "execution_count": 15,
   "id": "5bd8f9a7-aa36-4d32-ad19-02e0a2e38033",
   "metadata": {},
   "outputs": [],
   "source": [
    "from langchain_text_splitters import RecursiveCharacterTextSplitter"
   ]
  },
  {
   "cell_type": "code",
   "execution_count": 16,
   "id": "5de57f2e-f77d-41e0-9b70-af1bc001597c",
   "metadata": {},
   "outputs": [],
   "source": [
    "# Split text into 400-char chunks with 20-char overlap\n",
    "text_splitter = RecursiveCharacterTextSplitter(\n",
    "    chunk_size=400,\n",
    "    chunk_overlap=20,\n",
    "    length_function=tiktoken_len,\n",
    "    separators=[\"\\n\\n\", \"\\n\", \" \", \"\"], \n",
    ")"
   ]
  },
  {
   "cell_type": "code",
   "execution_count": 17,
   "id": "43c795c2-32f8-41f1-9d80-91d459cf247c",
   "metadata": {},
   "outputs": [],
   "source": [
    "# Convert wiki_data into an array of dictionaries and add in a unique id for each article\n",
    "wiki_dictionaries = []\n",
    "for i in range(len(wiki_data)):\n",
    "    new_dict = {\"id\": i, \"title\": wiki_data['title'][i], \"text\": wiki_data['text'][i]}\n",
    "    wiki_dictionaries.append(new_dict)"
   ]
  },
  {
   "cell_type": "code",
   "execution_count": 30,
   "id": "59af369f-0746-4be0-91e9-cba4abb90856",
   "metadata": {},
   "outputs": [
    {
     "name": "stdout",
     "output_type": "stream",
     "text": [
      "An error occurred: Failed to generate embeddings: 'Pinecone' object has no attribute 'embedding'\n"
     ]
    }
   ],
   "source": []
  },
  {
   "cell_type": "code",
   "execution_count": null,
   "id": "7c5505f5-7505-4bdb-a50b-a933b0511b11",
   "metadata": {},
   "outputs": [],
   "source": []
  }
 ],
 "metadata": {
  "kernelspec": {
   "display_name": "Python 3 (ipykernel)",
   "language": "python",
   "name": "python3"
  },
  "language_info": {
   "codemirror_mode": {
    "name": "ipython",
    "version": 3
   },
   "file_extension": ".py",
   "mimetype": "text/x-python",
   "name": "python",
   "nbconvert_exporter": "python",
   "pygments_lexer": "ipython3",
   "version": "3.9.6"
  }
 },
 "nbformat": 4,
 "nbformat_minor": 5
}
