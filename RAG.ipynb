{
 "cells": [
  {
   "cell_type": "markdown",
   "id": "bc6ff3bf-139b-4e78-82b4-734d72df2578",
   "metadata": {},
   "source": [
    "<span style=\"font-size: 32px; font-weight: bold;\">Retrieval Augmented Generation</span>"
   ]
  },
  {
   "cell_type": "markdown",
   "id": "e4230d8d-beb3-4359-918a-45ab7fd96785",
   "metadata": {},
   "source": [
    "This Jupyter Notebook demonstrates the use of a vector database and a knowledge graph to enhance the performance of Retrieval-Augmented Generation (RAG) models. By leveraging these technologies, we aim to improve the accuracy and relevance of contextually appropriate responses in natural language processing tasks"
   ]
  },
  {
   "cell_type": "markdown",
   "id": "1bde0421-6df9-493b-bd88-efd82a0db47b",
   "metadata": {},
   "source": [
    "___"
   ]
  },
  {
   "cell_type": "markdown",
   "id": "bc097f54-12f6-439e-849b-f3fe466d0a45",
   "metadata": {},
   "source": [
    "<span style=\"font-size: 20px; font-weight: bold;\">Building the Knowledge Base</span>"
   ]
  },
  {
   "cell_type": "code",
   "execution_count": 1,
   "id": "14c79a99-9f7f-4ffb-a4c5-bb8d7c980514",
   "metadata": {},
   "outputs": [
    {
     "name": "stderr",
     "output_type": "stream",
     "text": [
      "/Users/hilarywang/Library/Python/3.9/lib/python/site-packages/urllib3/__init__.py:35: NotOpenSSLWarning: urllib3 v2 only supports OpenSSL 1.1.1+, currently the 'ssl' module is compiled with 'LibreSSL 2.8.3'. See: https://github.com/urllib3/urllib3/issues/3020\n",
      "  warnings.warn(\n"
     ]
    }
   ],
   "source": [
    "import pandas as pd\n",
    "import pyarrow.parquet as pa\n",
    "import spacy"
   ]
  },
  {
   "cell_type": "code",
   "execution_count": 2,
   "id": "5033a36b-f7d2-4a48-a61b-9a5a3f3831eb",
   "metadata": {},
   "outputs": [
    {
     "name": "stderr",
     "output_type": "stream",
     "text": [
      "/Users/hilarywang/Library/Python/3.9/lib/python/site-packages/tqdm/auto.py:21: TqdmWarning: IProgress not found. Please update jupyter and ipywidgets. See https://ipywidgets.readthedocs.io/en/stable/user_install.html\n",
      "  from .autonotebook import tqdm as notebook_tqdm\n"
     ]
    },
    {
     "data": {
      "text/plain": [
       "Dataset({\n",
       "    features: ['text'],\n",
       "    num_rows: 10000\n",
       "})"
      ]
     },
     "execution_count": 2,
     "metadata": {},
     "output_type": "execute_result"
    }
   ],
   "source": [
    "# imports the load dataset from the Hugging Face DataSet library\n",
    "from datasets import load_dataset\n",
    "\n",
    "# loads the first 10,0000 rows from Parquet files in the variable data\n",
    "data = load_dataset(\n",
    "    \"parquet\",\n",
    "    data_files=\"train-00000-of-00001-090b52ccb189d47a.parquet\",\n",
    "    split=\"train[:10000]\",\n",
    ")\n",
    "data"
   ]
  },
  {
   "cell_type": "code",
   "execution_count": 3,
   "id": "e547c40f-1994-4681-9f12-6f6887dd4590",
   "metadata": {},
   "outputs": [],
   "source": [
    "import re\n",
    "\n",
    "\n",
    "# checking if row is title\n",
    "def is_title(row):\n",
    "    return len(row[\"text\"].split()) <= 2"
   ]
  },
  {
   "cell_type": "code",
   "execution_count": 5,
   "id": "7069751a-d584-40d3-917e-bb0a3f18d580",
   "metadata": {},
   "outputs": [],
   "source": [
    "def separate_title_and_text(dataset):\n",
    "    final_rows = []\n",
    "    current_title = None\n",
    "    accumulated_text = []\n",
    "\n",
    "    for row in dataset:\n",
    "        if is_title(row):  # Identify if the row is a title\n",
    "            if current_title is not None:\n",
    "                # Save the previous title and its accumulated text\n",
    "                final_rows.append(\n",
    "                    {\"title\": current_title, \"text\": \" \".join(accumulated_text)}\n",
    "                )\n",
    "            # Update the current title and reset the accumulated text\n",
    "            current_title = row[\"text\"]\n",
    "            accumulated_text = []\n",
    "        else:\n",
    "            # If it's part of the text, accumulate it\n",
    "            accumulated_text.append(row[\"text\"])\n",
    "\n",
    "    # Append the last title and its text if exists\n",
    "    if current_title is not None:\n",
    "        final_rows.append({\"title\": current_title, \"text\": \" \".join(accumulated_text)})\n",
    "\n",
    "    return final_rows\n",
    "\n",
    "\n",
    "wiki_data = separate_title_and_text(data)"
   ]
  },
  {
   "cell_type": "code",
   "execution_count": 10,
   "id": "d5bddcc0-8747-471c-9d8b-05652db7f8a5",
   "metadata": {},
   "outputs": [],
   "source": [
    "# Convert wiki_data into an array of dictionaries and add in a unique id for each article\n",
    "wiki_dictionaries = []\n",
    "for i in range(len(wiki_data)):\n",
    "    new_dict = {\"id\": i, \"title\": wiki_data[\"title\"][i], \"text\": wiki_data[\"text\"][i]}\n",
    "    wiki_dictionaries.append(new_dict)"
   ]
  },
  {
   "cell_type": "markdown",
   "id": "cee4f9f2-3739-40dd-911d-3db4ffda8e48",
   "metadata": {},
   "source": [
    "___"
   ]
  },
  {
   "cell_type": "markdown",
   "id": "94fe8f77-6a66-4f73-8cef-5c72d1b036a2",
   "metadata": {},
   "source": [
    "<span style=\"font-size: 20px; font-weight: bold;\">Modeling Data with Knowledge Graphs</span>"
   ]
  },
  {
   "cell_type": "code",
   "execution_count": 11,
   "id": "393919dd-eb68-4b97-a23b-d68f76d29da3",
   "metadata": {},
   "outputs": [],
   "source": [
    "import pinecone\n",
    "import torch\n",
    "from neo4j import GraphDatabase\n",
    "from transformers import AutoModel, AutoTokenizer\n",
    "\n",
    "# Neo4j Configuration\n",
    "neo4j_uri = \"neo4j+s://ef2b44af.databases.neo4j.io\"  \n",
    "neo4j_username = \"neo4j\"\n",
    "neo4j_password = \"zKqf9lt8vXnHXGU1WQtoDWPjtYCHeDEVECkP_KGclgE\"\n",
    "\n",
    "\n",
    "# Neo4j Driver Initialization\n",
    "driver = GraphDatabase.driver(neo4j_uri, auth=(neo4j_username, neo4j_password))"
   ]
  },
  {
   "cell_type": "code",
   "execution_count": 13,
   "id": "e026d143-d080-48c8-b7e0-e82f37d96fb0",
   "metadata": {},
   "outputs": [],
   "source": [
    "def create_graph_batch(tx, articles):\n",
    "    tx.run(\n",
    "        \"\"\"\n",
    "        UNWIND $articles AS article\n",
    "        CREATE (a:Article {id: article.id, title: article.title, text: article.text})\n",
    "    \"\"\",\n",
    "        articles=articles,\n",
    "    )\n",
    "\n",
    "\n",
    "def populate_neo4j_graph_batched(wiki_dictionaries, batch_size=100):\n",
    "    with driver.session() as session:\n",
    "        for i in range(0, len(wiki_dictionaries), batch_size):\n",
    "            batch = wiki_dictionaries[i : i + batch_size]\n",
    "            session.execute_write(create_graph_batch, batch)\n",
    "\n",
    "\n",
    "# Call the batched population function\n",
    "populate_neo4j_graph_batched(wiki_dictionaries, batch_size=100)"
   ]
  },
  {
   "cell_type": "code",
   "execution_count": 14,
   "id": "11a6a965-dc81-4c64-93b1-1255d76958c3",
   "metadata": {},
   "outputs": [],
   "source": [
    "# Step 3: Generate Embeddings with Neo4j Context\n",
    "model_name = \"sentence-transformers/all-mpnet-base-v2\"\n",
    "tokenizer = AutoTokenizer.from_pretrained(model_name)\n",
    "model = AutoModel.from_pretrained(model_name)\n",
    "\n",
    "\n",
    "def generate_embedding_with_context(batch, driver):\n",
    "    with driver.session() as session:\n",
    "        # Fetch related articles for enrichment (modify query logic as needed)\n",
    "        related_articles = session.run(\n",
    "            \"\"\"\n",
    "            MATCH (a:Article {id: $node_id})-[:RELATED_TO]->(b:Article)\n",
    "            RETURN b.title AS related_title\n",
    "        \"\"\",\n",
    "            node_id=batch[\"id\"],\n",
    "        ).data()\n",
    "\n",
    "    graph_context = \" \".join([rel[\"related_title\"] for rel in related_articles])\n",
    "    inputs = tokenizer(\n",
    "        batch[\"text\"] + \" \" + graph_context,\n",
    "        return_tensors=\"pt\",\n",
    "        padding=True,\n",
    "        truncation=True,\n",
    "    )\n",
    "    with torch.no_grad():\n",
    "        embeddings = model(**inputs).last_hidden_state.mean(dim=1)\n",
    "    return embeddings.numpy().tolist()"
   ]
  },
  {
   "cell_type": "markdown",
   "id": "c21b8aca-d7bf-4ecb-95f5-3e56d01d81ba",
   "metadata": {},
   "source": [
    "___"
   ]
  },
  {
   "cell_type": "markdown",
   "id": "00ccbafb-08be-480a-a96a-4f82a042bc38",
   "metadata": {},
   "source": [
    "<span style=\"font-size: 20px; font-weight: bold;\">Creating Embeddings</span>"
   ]
  },
  {
   "cell_type": "code",
   "execution_count": 15,
   "id": "e59f5574-2109-4b85-8414-1060f014e6d5",
   "metadata": {},
   "outputs": [],
   "source": [
    "# converts the list of dictionaries into Hugging Face Dataset\n",
    "wiki_data = wiki_data.from_list(wiki_dictionaries)"
   ]
  },
  {
   "cell_type": "code",
   "execution_count": 16,
   "id": "4536b358-cff9-45bc-a49a-7f5003c8dbdb",
   "metadata": {},
   "outputs": [
    {
     "data": {
      "text/plain": [
       "<Encoding 'cl100k_base'>"
      ]
     },
     "execution_count": 16,
     "metadata": {},
     "output_type": "execute_result"
    }
   ],
   "source": [
    "import tiktoken\n",
    "\n",
    "tiktoken.encoding_for_model(\"gpt-3.5-turbo\")"
   ]
  },
  {
   "cell_type": "code",
   "execution_count": 17,
   "id": "108bd6bf-cb52-46f0-87e7-7282765b5691",
   "metadata": {},
   "outputs": [],
   "source": [
    "import tiktoken\n",
    "\n",
    "tokenizer = tiktoken.get_encoding(\"cl100k_base\")\n",
    "\n",
    "\n",
    "# create the length function\n",
    "def tiktoken_len(text):\n",
    "    tokens = tokenizer.encode(text, disallowed_special=())\n",
    "    return len(tokens)"
   ]
  },
  {
   "cell_type": "code",
   "execution_count": 18,
   "id": "ec1a7089-2978-4351-a956-3121ace9c9df",
   "metadata": {},
   "outputs": [],
   "source": [
    "from langchain_text_splitters import RecursiveCharacterTextSplitter"
   ]
  },
  {
   "cell_type": "code",
   "execution_count": 19,
   "id": "1b5432a6-54bb-46d6-9fbf-3ff80824fb96",
   "metadata": {},
   "outputs": [],
   "source": [
    "# Split text into 400-char chunks with 20-char overlap\n",
    "text_splitter = RecursiveCharacterTextSplitter(\n",
    "    chunk_size=400,\n",
    "    chunk_overlap=20,\n",
    "    length_function=tiktoken_len,\n",
    "    separators=[\"\\n\\n\", \"\\n\", \" \", \"\"],\n",
    ")"
   ]
  },
  {
   "cell_type": "code",
   "execution_count": 21,
   "id": "64f03f7a-0ae1-4ebf-b314-9eeced27d05e",
   "metadata": {},
   "outputs": [],
   "source": [
    "data_files = wiki_data"
   ]
  },
  {
   "cell_type": "code",
   "execution_count": 22,
   "id": "03fe04ca-e238-4e1b-aed2-81b699b75434",
   "metadata": {},
   "outputs": [],
   "source": [
    "import torch\n",
    "from transformers import AutoModel, AutoTokenizer\n",
    "\n",
    "model_name = \"sentence-transformers/all-mpnet-base-v2\"\n",
    "tokenizer = AutoTokenizer.from_pretrained(model_name)\n",
    "model = AutoModel.from_pretrained(model_name)\n",
    "\n",
    "data_files.set_format(\"torch\", columns=[\"text\"])\n",
    "\n",
    "\n",
    "def generate_embedding(batch):\n",
    "    inputs = tokenizer(\n",
    "        batch[\"text\"], return_tensors=\"pt\", padding=True, truncation=True\n",
    "    )\n",
    "    with torch.no_grad():\n",
    "        embeddings = model(**inputs).last_hidden_state.mean(dim=1)\n",
    "    batch_embeddings = embeddings.numpy().tolist()\n",
    "    return batch"
   ]
  },
  {
   "cell_type": "code",
   "execution_count": 40,
   "id": "643dadac-d817-4ab6-99af-9575dd3067f1",
   "metadata": {},
   "outputs": [
    {
     "name": "stderr",
     "output_type": "stream",
     "text": [
      "Generating Embeddings: 100%|██████████████████| 988/988 [05:06<00:00,  3.22it/s]\n"
     ]
    }
   ],
   "source": [
    "from tqdm import tqdm  # Import the progress bar library\n",
    "\n",
    "embeddings = []\n",
    "batch_size = 30\n",
    "\n",
    "progress_bar = tqdm(total=len(wiki_dictionaries), desc=\"Generating Embeddings\")\n",
    "\n",
    "for i in range(0, len(wiki_dictionaries), batch_size):\n",
    "    batch = wiki_dictionaries[i : i + batch_size]\n",
    "    batch_embeddings = generate_embedding_with_context_batched(batch)\n",
    "    embeddings.extend(batch_embeddings)\n",
    "\n",
    "    progress_bar.update(len(batch))\n",
    "\n",
    "progress_bar.close()"
   ]
  },
  {
   "cell_type": "markdown",
   "id": "fd4026c3-e9c0-4bef-b5d4-d551b5554e33",
   "metadata": {},
   "source": [
    "___"
   ]
  },
  {
   "cell_type": "markdown",
   "id": "3f3d8281-aa76-44a9-af03-55d33cb13e39",
   "metadata": {},
   "source": [
    "<span style=\"font-size: 20px; font-weight: bold;\">Vector Database</span>"
   ]
  },
  {
   "cell_type": "code",
   "execution_count": 41,
   "id": "92b73892-ced8-45a5-b7dc-a168a131374a",
   "metadata": {},
   "outputs": [],
   "source": [
    "import pinecone"
   ]
  },
  {
   "cell_type": "code",
   "execution_count": 56,
   "id": "7adbcfef-6693-43a2-89b8-b3fd6490b02e",
   "metadata": {},
   "outputs": [
    {
     "name": "stdout",
     "output_type": "stream",
     "text": [
      "Uploaded batch 1\n",
      "Uploaded batch 2\n",
      "Uploaded batch 3\n",
      "Uploaded batch 4\n",
      "Uploaded batch 5\n",
      "Uploaded batch 6\n",
      "Uploaded batch 7\n",
      "Uploaded batch 8\n",
      "Uploaded batch 9\n",
      "Uploaded batch 10\n",
      "Uploaded batch 11\n",
      "Uploaded batch 12\n",
      "Uploaded batch 13\n",
      "Uploaded batch 14\n",
      "Uploaded batch 15\n",
      "Uploaded batch 16\n",
      "Uploaded batch 17\n",
      "Uploaded batch 18\n",
      "Uploaded batch 19\n",
      "Uploaded batch 20\n"
     ]
    }
   ],
   "source": [
    "import torch\n",
    "from pinecone import Pinecone, ServerlessSpec\n",
    "from transformers import AutoModel, AutoTokenizer\n",
    "\n",
    "# Make sure embeddings are in correct dimensions\n",
    "flattened_embeddings = [embedding[0] for embedding in embeddings]\n",
    "\n",
    "# Initialize Pinecone\n",
    "pc = Pinecone(api_key=\"188cbb39-7aad-4697-8c0f-d9172a679d56\")\n",
    "index_name = \"experiment2\"\n",
    "\n",
    "\n",
    "# Get existing index or create new one\n",
    "try:\n",
    "    index = pc.Index(index_name)\n",
    "except:\n",
    "    pc.create_index(\n",
    "        name=index_name,\n",
    "        dimension=1536,\n",
    "        metric=\"cosine\",\n",
    "        spec=ServerlessSpec(cloud=\"aws\", region=\"us-east-1\"),\n",
    "    )\n",
    "    index = pc.Index(index_name)\n",
    "\n",
    "\n",
    "# Prepare and upload vectors in batches\n",
    "batch_size = 50\n",
    "for i in range(0, len(flattened_embeddings), batch_size):\n",
    "    batch_vectors = []\n",
    "    for j, e in enumerate(flattened_embeddings[i : i + batch_size]):\n",
    "        article = wiki_dictionaries[i + j]\n",
    "        batch_vectors.append(\n",
    "            {\"id\": str(i + j), \"values\": e, \"metadata\": {\"text\": article[\"text\"]}}\n",
    "        )\n",
    "\n",
    "    # Upsert batch\n",
    "    index.upsert(vectors=batch_vectors, namespace=\"ns1\")\n",
    "    print(f\"Uploaded batch {i//batch_size + 1}\")"
   ]
  },
  {
   "cell_type": "code",
   "execution_count": 57,
   "id": "207a408a-348a-4c31-b30e-f68635f4dde9",
   "metadata": {},
   "outputs": [
    {
     "name": "stdout",
     "output_type": "stream",
     "text": [
      "{'dimension': 768,\n",
      " 'index_fullness': 0.0,\n",
      " 'namespaces': {'ns1': {'vector_count': 988}},\n",
      " 'total_vector_count': 988}\n"
     ]
    }
   ],
   "source": [
    "stats = index.describe_index_stats()\n",
    "print(stats)"
   ]
  },
  {
   "cell_type": "markdown",
   "id": "7c5c2385-1b7d-46cd-9795-4a548f5e48b2",
   "metadata": {},
   "source": [
    "___"
   ]
  },
  {
   "cell_type": "markdown",
   "id": "93e7ceac-04bc-4e5c-af39-b204a7ca19d5",
   "metadata": {},
   "source": [
    "<span style=\"font-size: 20px; font-weight: bold;\">Generative Question Answering</span>"
   ]
  },
  {
   "cell_type": "code",
   "execution_count": 58,
   "id": "195a018f-5357-4b30-acca-2520970ef3ee",
   "metadata": {},
   "outputs": [
    {
     "name": "stdout",
     "output_type": "stream",
     "text": [
      "{'matches': [{'id': '296',\n",
      "              'metadata': {'text': 'The Apple Macintosh or just “Mac” is a '\n",
      "                                   'line of personal computers made by the '\n",
      "                                   'American company Apple Inc. The Macintosh '\n",
      "                                   'was one of the first computers in which '\n",
      "                                   'the people could use a mouse for pointing '\n",
      "                                   'on a screen which had icons. This new way '\n",
      "                                   'of working with a computer (interface) was '\n",
      "                                   'known as graphical user interface. It was '\n",
      "                                   'this feature of the Macintosh that made it '\n",
      "                                   'so popular. The Apple–Intel transition was '\n",
      "                                   'when Apple changed the CPU of Macintosh '\n",
      "                                   'computers from PowerPC processors to Intel '\n",
      "                                   'x86 processors. It was announced at the '\n",
      "                                   '2005 World Wide Developers Conference. '\n",
      "                                   'Steve Jobs announced it. Macintoshes were '\n",
      "                                   'different than other personal computers '\n",
      "                                   'for many years based on their central '\n",
      "                                   'processor unit (CPU). At the start, Macs '\n",
      "                                   'used Motorola 68000 chips instead of Intel '\n",
      "                                   'chips. Later, Macs used PowerPC chips. In '\n",
      "                                   '2006, Macs started to use Intel chips. '\n",
      "                                   'Today, Macs are sold with Intel quad-core '\n",
      "                                   'i7 chips. The Mac does not have the '\n",
      "                                   'Windows operating system installed on it. '\n",
      "                                   'It has its own range of operating systems, '\n",
      "                                   'known as macOS. The newest operating '\n",
      "                                   'system is known as “Catalina\". Macs can '\n",
      "                                   'run both Windows and macOS at the same '\n",
      "                                   'time with help of a program called “Boot '\n",
      "                                   'Camp”, which comes on every Mac. In '\n",
      "                                   'general, Macintosh computers cost more '\n",
      "                                   'than other computers of the same speed.'},\n",
      "              'score': 0.577915132,\n",
      "              'values': []},\n",
      "             {'id': '22',\n",
      "              'metadata': {'text': 'The apple tree (Malus domestica) is a tree '\n",
      "                                   'that grows apples. It is best known for '\n",
      "                                   'this juicy, tasty fruit. The tree is grown '\n",
      "                                   'worldwide. Its fruit is low-cost, and is '\n",
      "                                   'harvested all over the world.  Applewood '\n",
      "                                   'is a type of wood that comes from this '\n",
      "                                   'tree. The apple tree comes from southern '\n",
      "                                   'Kazakhstan, Kyrgyzstan, Tajikistan, and '\n",
      "                                   'northwestern part of China. Apples have '\n",
      "                                   'been grown for thousands of years in Asia '\n",
      "                                   'and Europe. They were brought to North '\n",
      "                                   'America by European settlers. Apples have '\n",
      "                                   'religious and mythological significance in '\n",
      "                                   'many cultures. Apples are generally '\n",
      "                                   'propagated by grafting, although wild '\n",
      "                                   'apples grow readily from seed. Apple trees '\n",
      "                                   'are large if grown from seed, but small if '\n",
      "                                   'grafted onto roots (rootstock). There are '\n",
      "                                   'more than 7,500 known cultivars of apples, '\n",
      "                                   'with a range of desired characteristics. '\n",
      "                                   'Different cultivars are bred for various '\n",
      "                                   'tastes and uses: cooking, eating raw and '\n",
      "                                   'cider production are the most common '\n",
      "                                   'uses.  Trees and fruit are attacked by '\n",
      "                                   'fungi, bacteria and pests. In 2010, the '\n",
      "                                   \"fruit's genome was sequenced as part of \"\n",
      "                                   'research on disease control and selective '\n",
      "                                   'breeding in apple production. Worldwide '\n",
      "                                   'production of apples in 2013 was 90.8 '\n",
      "                                   'million tonnes. China grew 49% of the '\n",
      "                                   'total. The apple has a small, '\n",
      "                                   'leaf-shedding tree that grows up to tall. '\n",
      "                                   'The apple tree has a broad crown with '\n",
      "                                   'thick twigs. The leaves are alternately '\n",
      "                                   'arranged simple ovals. They are 5 to 12 '\n",
      "                                   'centimetres long and 3–6centimetres '\n",
      "                                   '(1.2–2.4in) wide. It has a sharp top with '\n",
      "                                   'a soft underside. Blossoms come out in '\n",
      "                                   'spring at the same time that the leaves '\n",
      "                                   'begin to bud. The flowers are white. They '\n",
      "                                   'also have a slightly pink color. They are '\n",
      "                                   'five petaled, and 2.5 to 3.5 centimetres '\n",
      "                                   '(0.98 to 1.4 in) in diameter. The fruit '\n",
      "                                   'matures in autumn. It is usually 5 to 9 '\n",
      "                                   'centimetres (2.0 to 3.5 in) in diameter. '\n",
      "                                   'There are five carpels arranged in a star '\n",
      "                                   'in the middle of the fruit. Every carpel '\n",
      "                                   'has one to three seeds. The wild ancestor '\n",
      "                                   'of apple trees is \"Malus sieversii\". They '\n",
      "                                   'grow wild in the mountains of Central Asia '\n",
      "                                   'in the north of Kazakhstan, Kyrgyzstan, '\n",
      "                                   'Tajikistan, and Xinjiang, China, and '\n",
      "                                   'possibly also \"Malus sylvestris\". Unlike '\n",
      "                                   'domesticated apples, their leaves become '\n",
      "                                   'red in autumn. They are being used '\n",
      "                                   'recently to develop \"Malus domestica\" to '\n",
      "                                   'grow in colder climates. The apple tree '\n",
      "                                   'was possibly the earliest tree to be '\n",
      "                                   'cultivated. Its fruits have become better '\n",
      "                                   'over thousands of years. It is said that '\n",
      "                                   'Alexander the Great discovered dwarf '\n",
      "                                   'apples in Asia Minor in 300 BC. Asia and '\n",
      "                                   'Europe have used winter apples as an '\n",
      "                                   'important food for thousands of years. '\n",
      "                                   'From when Europeans arrived, Argentina and '\n",
      "                                   'the United States have used apples as food '\n",
      "                                   'as well. Apples were brought to North '\n",
      "                                   'America in the 1600s. The first apple '\n",
      "                                   'orchard on the North American continent '\n",
      "                                   'was said to be near Boston in 1625. In the '\n",
      "                                   '1900s, costly fruit industries, where the '\n",
      "                                   'apple was a very important species, began '\n",
      "                                   'developing. In Norse mythology, the '\n",
      "                                   'goddess Iðunn gives apples to the gods in '\n",
      "                                   '\"Prose Edda\" (written in the 13th century '\n",
      "                                   'by Snorri Sturluson) that makes them young '\n",
      "                                   'forever. English scholar H. R. Ellis '\n",
      "                                   'Davidson suggests that apples were related '\n",
      "                                   'to religious practices in Germanic '\n",
      "                                   'paganism. It was from there, she claims, '\n",
      "                                   'that Norse paganism developed. She points '\n",
      "                                   'out that buckets of apples were discovered '\n",
      "                                   'in the place of burial for the Oseberg '\n",
      "                                   'ship in Norway. She also remarks that '\n",
      "                                   'fruit and nuts (Iðunn having been '\n",
      "                                   'described as changing into a nut in '\n",
      "                                   '\"Skáldskaparmál\") have been discovered in '\n",
      "                                   'the early graves of the Germanic peoples '\n",
      "                                   'in England. They have also been discovered '\n",
      "                                   'somewhere else on the continent of Europe. '\n",
      "                                   'She suggests that this may have had a '\n",
      "                                   'symbolic meaning. Nuts are still a symbol '\n",
      "                                   'of fertility in Southwest England. '\n",
      "                                   'Sometimes apples are eaten after they are '\n",
      "                                   'cooked. Often apples are eaten uncooked. '\n",
      "                                   'Apples can also be made into drinks. Apple '\n",
      "                                   'juice and apple cider are apple drinks.  '\n",
      "                                   'The flesh of the fruit is firm with a '\n",
      "                                   'taste anywhere from sour to sweet. Apples '\n",
      "                                   'used for cooking are sour, and need to be '\n",
      "                                   'cooked with sugar, while other apples are '\n",
      "                                   'sweet, and do not need cooking. There are '\n",
      "                                   'some seeds at the core, that can be '\n",
      "                                   'removed with a tool that removes the core, '\n",
      "                                   'or by carefully using a knife. The '\n",
      "                                   'scientific name of the apple tree genus in '\n",
      "                                   'the Latin language is \"Malus\". Most apples '\n",
      "                                   'that people grow are of the \"Malus '\n",
      "                                   'domestica\" species. Most apples are good '\n",
      "                                   'to eat raw (not cooked), and are also used '\n",
      "                                   'in many kinds of baked foods, such as '\n",
      "                                   'apple pie. Apples are cooked until they '\n",
      "                                   'are soft to make apple sauce. Apples are '\n",
      "                                   'also made into the drinks apple juice and '\n",
      "                                   'cider. Usually, cider contains a little '\n",
      "                                   'alcohol, about as much as beer. The '\n",
      "                                   'regions of Brittany in France and Cornwall '\n",
      "                                   'in England are known for their apple '\n",
      "                                   'ciders. If one wants to grow a certain '\n",
      "                                   'type of apple it is not possible to do '\n",
      "                                   'this by planting a seed from the wanted '\n",
      "                                   'type. The seed will have DNA from the '\n",
      "                                   'apple that the seeds came from, but it '\n",
      "                                   'will also have DNA from the apple flower '\n",
      "                                   'that pollinated the seeds, which may well '\n",
      "                                   'be a different type. This means that the '\n",
      "                                   'tree which would grow from planting would '\n",
      "                                   'be a mixture of two. In order to grow a '\n",
      "                                   'certain type of apple, a small twig, or '\n",
      "                                   \"'scion', is cut from the tree that grows \"\n",
      "                                   'the type of apple desired, and then added '\n",
      "                                   'on to a specially grown stump called a '\n",
      "                                   'rootstock. The tree that grows will only '\n",
      "                                   'create apples of the type needed. There '\n",
      "                                   'are more than 7,500 known cultivars '\n",
      "                                   '(varieties) of apples. Different cultivars '\n",
      "                                   'are available for temperate and '\n",
      "                                   'subtropical climates. One large collection '\n",
      "                                   'of over 2,100 apple cultivars is at the '\n",
      "                                   'National Fruit Collection in England. Most '\n",
      "                                   'of these cultivars are grown for eating '\n",
      "                                   'fresh (dessert apples). However, some are '\n",
      "                                   'grown simply for cooking or making cider. '\n",
      "                                   'Cider apples are usually too tart to eat '\n",
      "                                   'immediately. However, they give cider a '\n",
      "                                   'rich flavor that dessert apples cannot. '\n",
      "                                   'Most popular apple cultivars are soft but '\n",
      "                                   'crisp. Colorful skin, easy shipping, '\n",
      "                                   \"disease resistance, 'Red Delicious' apple \"\n",
      "                                   'shape, and popular flavor are also needed. '\n",
      "                                   'Modern apples are usually sweeter than '\n",
      "                                   'older cultivars. This is because popular '\n",
      "                                   'tastes in apples have become different. '\n",
      "                                   'Most North Americans and Europeans enjoy '\n",
      "                                   'sweet apples. Extremely sweet apples with '\n",
      "                                   'hardly any acid taste are popular in Asia '\n",
      "                                   'and India. In the United Kingdom there are '\n",
      "                                   'about 3000 different types of apples. The '\n",
      "                                   'most common apple type grown in England is '\n",
      "                                   \"the 'Bramley seedling', which is a popular \"\n",
      "                                   'cooking apple. Apple orchards are not as '\n",
      "                                   'common as they were in the early 1900s, '\n",
      "                                   'when apples were rarely brought in from '\n",
      "                                   'other countries. Organizations such as '\n",
      "                                   'Common Ground teach people about the '\n",
      "                                   'importance of rare and local varieties of '\n",
      "                                   'fruit. Many apples are grown in temperate '\n",
      "                                   'parts of the United States and Canada. In '\n",
      "                                   'many areas where apple growing is '\n",
      "                                   'important, people have huge celebrations: '\n",
      "                                   'There are many different varieties of '\n",
      "                                   'apples, including: Apples are in the group '\n",
      "                                   'Maloideae. This is a subfamily of the '\n",
      "                                   'family \"Rosaceae\". They are in the same '\n",
      "                                   'subfamily as pears.'},\n",
      "              'score': 0.522837698,\n",
      "              'values': []},\n",
      "             {'id': '295',\n",
      "              'metadata': {'text': '\"For the Apple computer family, see macOS\" '\n",
      "                                   'The Macintosh Operating System (Mac OS) is '\n",
      "                                   'a program that allows a Macintosh computer '\n",
      "                                   'to operate and be used. Mac OS was first '\n",
      "                                   'made by Apple Inc. in 1984. In those days '\n",
      "                                   'Mac OS was called Macintosh System '\n",
      "                                   'Software – which was shortened to System '\n",
      "                                   'or SSW (System Software). The term \"Mac '\n",
      "                                   'OS\" first appeared in the splash screen '\n",
      "                                   'for System 7.5.1, but was not adopted as '\n",
      "                                   'the new name until the release of Mac OS '\n",
      "                                   '7.6. The latest version of Mac OS is Mac '\n",
      "                                   'OS 11 Big Sur.'},\n",
      "              'score': 0.464116067,\n",
      "              'values': []}],\n",
      " 'namespace': 'ns1',\n",
      " 'usage': {'read_units': 6}}\n"
     ]
    }
   ],
   "source": [
    "# Define the query\n",
    "query = \"Tell me about the tech company known as Apple\"\n",
    "\n",
    "# Generate the query embedding\n",
    "inputs = tokenizer(query, return_tensors=\"pt\", padding=True, truncation=True)\n",
    "with torch.no_grad():\n",
    "    query_embedding = model(**inputs).last_hidden_state.mean(dim=1).numpy()[0]\n",
    "\n",
    "# Ensure the query embedding is a list of floats\n",
    "query_vector = query_embedding.tolist()\n",
    "query_vector\n",
    "\n",
    "\n",
    "# Test query with Pinecone\n",
    "\n",
    "results = index.query(\n",
    "    namespace=\"ns1\", vector=query_vector, top_k=3, include_metadata=True\n",
    ")\n",
    "\n",
    "print(results)"
   ]
  },
  {
   "cell_type": "code",
   "execution_count": null,
   "id": "e616ca3e-3bf8-42f0-9331-fd9e91b52739",
   "metadata": {},
   "outputs": [],
   "source": []
  },
  {
   "cell_type": "code",
   "execution_count": null,
   "id": "c4ddd4d7-b73f-4fcd-b01b-298a8a1917b8",
   "metadata": {},
   "outputs": [],
   "source": []
  }
 ],
 "metadata": {
  "kernelspec": {
   "display_name": "Python 3 (ipykernel)",
   "language": "python",
   "name": "python3"
  },
  "language_info": {
   "codemirror_mode": {
    "name": "ipython",
    "version": 3
   },
   "file_extension": ".py",
   "mimetype": "text/x-python",
   "name": "python",
   "nbconvert_exporter": "python",
   "pygments_lexer": "ipython3",
   "version": "3.11.8"
  }
 },
 "nbformat": 4,
 "nbformat_minor": 5
}
