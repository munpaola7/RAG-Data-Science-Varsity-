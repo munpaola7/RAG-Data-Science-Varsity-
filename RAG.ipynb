{
 "cells": [
  {
   "cell_type": "code",
   "execution_count": 211,
   "id": "dd413296-6e82-4f64-9c4a-943de715d00f",
   "metadata": {},
   "outputs": [],
   "source": [
    "import pandas as pd\n",
    "import pyarrow.parquet as pa\n",
    "import spacy\n"
   ]
  },
  {
   "cell_type": "code",
   "execution_count": 212,
   "id": "d23c6504-e2f8-4782-98c8-86d75a210243",
   "metadata": {},
   "outputs": [
    {
     "data": {
      "text/plain": [
       "Dataset({\n",
       "    features: ['text'],\n",
       "    num_rows: 10000\n",
       "})"
      ]
     },
     "execution_count": 212,
     "metadata": {},
     "output_type": "execute_result"
    }
   ],
   "source": [
    "#imports the load dataset from the Hugging Face DataSet libary\n",
    "from datasets import load_dataset\n",
    "#loads the first 10,0000 rows from Parquet files in the variable data\n",
    "data = load_dataset(\"parquet\", data_files=\"train-00000-of-00001-090b52ccb189d47a.parquet\", split='train[:10000]')\n",
    "data"
   ]
  },
  {
   "cell_type": "code",
   "execution_count": 214,
   "id": "16b24346-acd3-4043-aa99-ff8ce4c80d95",
   "metadata": {},
   "outputs": [],
   "source": [
    "import re\n",
    "#checking if row is title \n",
    "def is_title(row):\n",
    "    return len(row['text'].split()) <= 2\n",
    "    "
   ]
  },
  {
   "cell_type": "code",
   "execution_count": 233,
   "id": "5fadb0a0-b4ab-438c-af3f-42dbdbcafaca",
   "metadata": {},
   "outputs": [],
   "source": [
    "def separate_title_and_text(dataset):\n",
    "    final_rows = []\n",
    "    current_title = None\n",
    "    accumulated_text = []\n",
    "\n",
    "    for row in dataset:\n",
    "        if is_title(row):  # Identify if the row is a title\n",
    "            if current_title is not None:\n",
    "                # Save the previous title and its accumulated text\n",
    "                final_rows.append({\n",
    "                    'title': current_title,\n",
    "                    'text': ' '.join(accumulated_text)\n",
    "                })\n",
    "            # Update the current title and reset the accumulated text\n",
    "            current_title = row['text']\n",
    "            accumulated_text = []\n",
    "        else:\n",
    "            # If it's part of the text, accumulate it\n",
    "            accumulated_text.append(row['text'])\n",
    "\n",
    "    # Append the last title and its text if exists\n",
    "    if current_title is not None:\n",
    "        final_rows.append({\n",
    "            'title': current_title,\n",
    "            'text': ' '.join(accumulated_text)\n",
    "        })\n",
    "\n",
    "    return final_rows\n",
    "\n",
    "wiki_data = separate_title_and_text(data)\n",
    "\n"
   ]
  },
  {
   "cell_type": "code",
   "execution_count": 237,
   "id": "95b22f70-64b9-4170-98fd-e37e0402975d",
   "metadata": {},
   "outputs": [],
   "source": [
    "# converts lists into Hugging Face Dataset\n",
    "wiki_data=data.from_list(wiki_data)"
   ]
  },
  {
   "cell_type": "code",
   "execution_count": 238,
   "id": "0a538e5b-1ee4-4380-901d-58bb044629f7",
   "metadata": {},
   "outputs": [
    {
     "data": {
      "text/plain": [
       "<Encoding 'cl100k_base'>"
      ]
     },
     "execution_count": 238,
     "metadata": {},
     "output_type": "execute_result"
    }
   ],
   "source": [
    "import tiktoken\n",
    "tiktoken.encoding_for_model('gpt-3.5-turbo')"
   ]
  },
  {
   "cell_type": "code",
   "execution_count": 239,
   "id": "28bce6a6-0cb4-470d-97db-5a765abf6f87",
   "metadata": {},
   "outputs": [],
   "source": [
    "import tiktoken\n",
    "\n",
    "tokenizer = tiktoken.get_encoding('cl100k_base')\n",
    "\n",
    "# create the length function\n",
    "def tiktoken_len(text):\n",
    "    tokens = tokenizer.encode(\n",
    "        text,\n",
    "        disallowed_special=()\n",
    "    )\n",
    "    return len(tokens)"
   ]
  },
  {
   "cell_type": "code",
   "execution_count": 240,
   "id": "5bd8f9a7-aa36-4d32-ad19-02e0a2e38033",
   "metadata": {},
   "outputs": [],
   "source": [
    "from langchain_text_splitters import RecursiveCharacterTextSplitter"
   ]
  },
  {
   "cell_type": "code",
   "execution_count": 241,
   "id": "5de57f2e-f77d-41e0-9b70-af1bc001597c",
   "metadata": {},
   "outputs": [],
   "source": [
    "# Split text into 400-char chunks with 20-char overlap\n",
    "text_splitter = RecursiveCharacterTextSplitter(\n",
    "    chunk_size=400,\n",
    "    chunk_overlap=20,\n",
    "    length_function=tiktoken_len,\n",
    "    separators=[\"\\n\\n\", \"\\n\", \" \", \"\"], \n",
    ")"
   ]
  },
  {
   "cell_type": "code",
   "execution_count": null,
   "id": "4e51947d-18d5-4681-ac50-b2268c315dbf",
   "metadata": {},
   "outputs": [],
   "source": []
  }
 ],
 "metadata": {
  "kernelspec": {
   "display_name": "Python 3 (ipykernel)",
   "language": "python",
   "name": "python3"
  },
  "language_info": {
   "codemirror_mode": {
    "name": "ipython",
    "version": 3
   },
   "file_extension": ".py",
   "mimetype": "text/x-python",
   "name": "python",
   "nbconvert_exporter": "python",
   "pygments_lexer": "ipython3",
   "version": "3.11.5"
  }
 },
 "nbformat": 4,
 "nbformat_minor": 5
}
